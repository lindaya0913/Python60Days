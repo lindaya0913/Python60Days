{
 "cells": [
  {
   "cell_type": "markdown",
   "metadata": {},
   "source": [
    "## 作業:\n",
    "今天學到不同統計量之間特性，  \n",
    "試著分析男生女生身高資料，  \n",
    "試著回答下面的問題:  \n",
    "Q1:試著用今天所教的內容，如何描述這兩組資料的樣態?    \n",
    "Q2: 請問男生和女生在平均身高上誰比較高?   \n",
    "Q3:請問第二題的答案和日常生活中觀察的一致嗎? 如果不一致，你覺得原因可能為何?    \n",
    "上述問題透過  python 語法進行運算，\n",
    "並將上述答案填寫在 (google 表單)[https://forms.gle/EDdU2Zfq8zLvDea18]\n",
    "![](作業資料圖檔.PNG)"
   ]
  },
  {
   "cell_type": "code",
   "execution_count": 1,
   "metadata": {
    "colab": {
     "base_uri": "https://localhost:8080/",
     "height": 34
    },
    "colab_type": "code",
    "executionInfo": {
     "elapsed": 1558,
     "status": "ok",
     "timestamp": 1578021044012,
     "user": {
      "displayName": "Mora chen",
      "photoUrl": "https://lh3.googleusercontent.com/a-/AAuE7mB40f7sDArbZ5_DYq02nNcnLD0Ryaf7AhsASSQeLQ=s64",
      "userId": "03171203089166907199"
     },
     "user_tz": -480
    },
    "id": "yz28_IgkYdBW",
    "outputId": "a12f486c-18b3-4fb5-d06c-f162aebd9444"
   },
   "outputs": [],
   "source": [
    "# library\n",
    "import matplotlib.pyplot as plt\n",
    "import numpy as np\n",
    "import pandas as pd\n",
    "from scipy import stats\n",
    "import math\n",
    "import statistics\n",
    "import seaborn as sns"
   ]
  },
  {
   "cell_type": "code",
   "execution_count": 2,
   "metadata": {},
   "outputs": [],
   "source": [
    "## 輸入資料\n",
    "boys=[164, 176, 169, 169, 165, 175, 159, 151, 144, 160, 183, 165, 156, 170, 164, 173, 165, 163, 177, 171]\n",
    "girls=[169, 183, 170, 168, 182, 170, 173, 185, 151, 156, 162, 169, 162, 181, 159, 154, 167, 175, 170, 160]"
   ]
  },
  {
   "cell_type": "code",
   "execution_count": 5,
   "metadata": {},
   "outputs": [
    {
     "name": "stdout",
     "output_type": "stream",
     "text": [
      "男孩身高平均= 165.95\n",
      "男孩身高中位數= 165.0\n",
      "男孩身高眾數= 165\n",
      "男孩身高變異數= 84.89210526315789\n",
      "男孩身高標準差= 9.213691185575838\n",
      "男孩偏度= -0.47132127317376954\n",
      "男孩峰度= 0.19395882957876331\n",
      "女孩身高平均= 168.3\n",
      "女孩身高中位數= 169.0\n",
      "女孩身高眾數= 170\n",
      "女孩身高變異數= 95.37894736842104\n",
      "女孩身高標準差= 9.766214587465353\n",
      "女孩偏度= 0.05985321129365068\n",
      "女孩峰度= -0.8203607083948947\n"
     ]
    }
   ],
   "source": [
    "#Q1:試著用今天所教的內容，如何描述這兩組資料的樣態?\n",
    "#暗示:  分別計算男生和女生的統計量\n",
    "print(\"男孩身高平均=\",np.mean(boys))\n",
    "print(\"男孩身高中位數=\",np.median(boys))\n",
    "print(\"男孩身高眾數=\",stats.mode(boys,axis=None)[0][0])\n",
    "print(\"男孩身高變異數=\",np.var(boys,ddof=1))\n",
    "print(\"男孩身高標準差=\",np.std(boys,ddof=1))\n",
    "print(\"男孩偏度=\",stats.skew(boys))\n",
    "print(\"男孩峰度=\",stats.kurtosis(boys))\n",
    "\n",
    "print(\"女孩身高平均=\",np.mean(girls))\n",
    "print(\"女孩身高中位數=\",np.median(girls))\n",
    "print(\"女孩身高眾數=\",stats.mode(girls,axis=None)[0][0])\n",
    "print(\"女孩身高變異數=\",np.var(girls,ddof=1))\n",
    "print(\"女孩身高標準差=\",np.std(girls,ddof=1))\n",
    "print(\"女孩偏度=\",stats.skew(girls))\n",
    "print(\"女孩峰度=\",stats.kurtosis(girls))"
   ]
  },
  {
   "cell_type": "code",
   "execution_count": 6,
   "metadata": {},
   "outputs": [
    {
     "name": "stdout",
     "output_type": "stream",
     "text": [
      "女生在平均身高上比較高\n"
     ]
    }
   ],
   "source": [
    "#Q2: 請問男生和女生在平均身高上誰比較高? \n",
    "if np.mean(girls)>np.mean(boys):\n",
    "    print(\"女生在平均身高上比較高\")\n",
    "else:\n",
    "    print(\"男生在平均身高上比較高\")"
   ]
  },
  {
   "cell_type": "code",
   "execution_count": 7,
   "metadata": {},
   "outputs": [
    {
     "name": "stdout",
     "output_type": "stream",
     "text": [
      "不一致，原因可能是因為女生生高較平均，男生有極值\n"
     ]
    }
   ],
   "source": [
    "#Q3:請問第二題的答案和日常生活中觀察的一致嗎? 如果不一致，你覺得原因可能為何? \n",
    "print(\"不一致，原因可能是因為女生生高較平均，男生有極值\")"
   ]
  },
  {
   "cell_type": "code",
   "execution_count": null,
   "metadata": {},
   "outputs": [],
   "source": []
  }
 ],
 "metadata": {
  "colab": {
   "name": "Day33.YOLO 細節理解 - 網路輸出的後處理_HW.ipynb",
   "provenance": []
  },
  "kernelspec": {
   "display_name": "Python 3",
   "language": "python",
   "name": "python3"
  },
  "language_info": {
   "codemirror_mode": {
    "name": "ipython",
    "version": 3
   },
   "file_extension": ".py",
   "mimetype": "text/x-python",
   "name": "python",
   "nbconvert_exporter": "python",
   "pygments_lexer": "ipython3",
   "version": "3.8.3"
  }
 },
 "nbformat": 4,
 "nbformat_minor": 1
}
