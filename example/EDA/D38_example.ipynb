{
 "cells": [
  {
   "cell_type": "markdown",
   "metadata": {},
   "source": [
    "## 今天的範例，帶著大家一起挖掘變數之間的關係"
   ]
  },
  {
   "cell_type": "code",
   "execution_count": 1,
   "metadata": {
    "colab": {
     "base_uri": "https://localhost:8080/",
     "height": 34
    },
    "colab_type": "code",
    "executionInfo": {
     "elapsed": 1558,
     "status": "ok",
     "timestamp": 1578021044012,
     "user": {
      "displayName": "Mora chen",
      "photoUrl": "https://lh3.googleusercontent.com/a-/AAuE7mB40f7sDArbZ5_DYq02nNcnLD0Ryaf7AhsASSQeLQ=s64",
      "userId": "03171203089166907199"
     },
     "user_tz": -480
    },
    "id": "yz28_IgkYdBW",
    "outputId": "a12f486c-18b3-4fb5-d06c-f162aebd9444"
   },
   "outputs": [
    {
     "name": "stdout",
     "output_type": "stream",
     "text": [
      "0.23.1\n"
     ]
    }
   ],
   "source": [
    "# library\n",
    "import matplotlib.pyplot as plt\n",
    "import numpy as np\n",
    "import pandas as pd\n",
    "from scipy import stats\n",
    "import math\n",
    "import statistics\n",
    "import seaborn as sns\n",
    "from IPython.display import display\n",
    "import sklearn\n",
    "print(sklearn.__version__)\n",
    "#如果只有 0.19 記得要更新至 最新版本\n",
    "%matplotlib inline"
   ]
  },
  {
   "cell_type": "markdown",
   "metadata": {},
   "source": [
    "## 產生一組資料集"
   ]
  },
  {
   "cell_type": "code",
   "execution_count": 2,
   "metadata": {},
   "outputs": [
    {
     "data": {
      "text/html": [
       "<div>\n",
       "<style scoped>\n",
       "    .dataframe tbody tr th:only-of-type {\n",
       "        vertical-align: middle;\n",
       "    }\n",
       "\n",
       "    .dataframe tbody tr th {\n",
       "        vertical-align: top;\n",
       "    }\n",
       "\n",
       "    .dataframe thead th {\n",
       "        text-align: right;\n",
       "    }\n",
       "</style>\n",
       "<table border=\"1\" class=\"dataframe\">\n",
       "  <thead>\n",
       "    <tr style=\"text-align: right;\">\n",
       "      <th></th>\n",
       "      <th>sex</th>\n",
       "      <th>insomnia</th>\n",
       "      <th>age</th>\n",
       "      <th>height</th>\n",
       "      <th>weight</th>\n",
       "    </tr>\n",
       "  </thead>\n",
       "  <tbody>\n",
       "    <tr>\n",
       "      <th>0</th>\n",
       "      <td>Male</td>\n",
       "      <td>Y</td>\n",
       "      <td>23</td>\n",
       "      <td>180</td>\n",
       "      <td>100</td>\n",
       "    </tr>\n",
       "    <tr>\n",
       "      <th>1</th>\n",
       "      <td>Male</td>\n",
       "      <td>N</td>\n",
       "      <td>40</td>\n",
       "      <td>170</td>\n",
       "      <td>68</td>\n",
       "    </tr>\n",
       "    <tr>\n",
       "      <th>2</th>\n",
       "      <td>Male</td>\n",
       "      <td>N</td>\n",
       "      <td>5</td>\n",
       "      <td>100</td>\n",
       "      <td>20</td>\n",
       "    </tr>\n",
       "    <tr>\n",
       "      <th>3</th>\n",
       "      <td>Male</td>\n",
       "      <td>N</td>\n",
       "      <td>30</td>\n",
       "      <td>176</td>\n",
       "      <td>70</td>\n",
       "    </tr>\n",
       "    <tr>\n",
       "      <th>4</th>\n",
       "      <td>Male</td>\n",
       "      <td>N</td>\n",
       "      <td>1</td>\n",
       "      <td>70</td>\n",
       "      <td>10</td>\n",
       "    </tr>\n",
       "    <tr>\n",
       "      <th>5</th>\n",
       "      <td>Female</td>\n",
       "      <td>N</td>\n",
       "      <td>40</td>\n",
       "      <td>160</td>\n",
       "      <td>45</td>\n",
       "    </tr>\n",
       "    <tr>\n",
       "      <th>6</th>\n",
       "      <td>Female</td>\n",
       "      <td>Y</td>\n",
       "      <td>16</td>\n",
       "      <td>170</td>\n",
       "      <td>50</td>\n",
       "    </tr>\n",
       "    <tr>\n",
       "      <th>7</th>\n",
       "      <td>Female</td>\n",
       "      <td>Y</td>\n",
       "      <td>27</td>\n",
       "      <td>166</td>\n",
       "      <td>58</td>\n",
       "    </tr>\n",
       "    <tr>\n",
       "      <th>8</th>\n",
       "      <td>Female</td>\n",
       "      <td>Y</td>\n",
       "      <td>43</td>\n",
       "      <td>155</td>\n",
       "      <td>58</td>\n",
       "    </tr>\n",
       "    <tr>\n",
       "      <th>9</th>\n",
       "      <td>Female</td>\n",
       "      <td>N</td>\n",
       "      <td>8</td>\n",
       "      <td>35</td>\n",
       "      <td>17</td>\n",
       "    </tr>\n",
       "    <tr>\n",
       "      <th>10</th>\n",
       "      <td>Male</td>\n",
       "      <td>Y</td>\n",
       "      <td>23</td>\n",
       "      <td>170</td>\n",
       "      <td>101</td>\n",
       "    </tr>\n",
       "    <tr>\n",
       "      <th>11</th>\n",
       "      <td>Male</td>\n",
       "      <td>N</td>\n",
       "      <td>39</td>\n",
       "      <td>168</td>\n",
       "      <td>65</td>\n",
       "    </tr>\n",
       "    <tr>\n",
       "      <th>12</th>\n",
       "      <td>Male</td>\n",
       "      <td>N</td>\n",
       "      <td>5</td>\n",
       "      <td>101</td>\n",
       "      <td>22</td>\n",
       "    </tr>\n",
       "    <tr>\n",
       "      <th>13</th>\n",
       "      <td>Male</td>\n",
       "      <td>N</td>\n",
       "      <td>29</td>\n",
       "      <td>175</td>\n",
       "      <td>79</td>\n",
       "    </tr>\n",
       "    <tr>\n",
       "      <th>14</th>\n",
       "      <td>Male</td>\n",
       "      <td>N</td>\n",
       "      <td>1</td>\n",
       "      <td>72</td>\n",
       "      <td>12</td>\n",
       "    </tr>\n",
       "    <tr>\n",
       "      <th>15</th>\n",
       "      <td>Female</td>\n",
       "      <td>N</td>\n",
       "      <td>42</td>\n",
       "      <td>163</td>\n",
       "      <td>40</td>\n",
       "    </tr>\n",
       "    <tr>\n",
       "      <th>16</th>\n",
       "      <td>Female</td>\n",
       "      <td>Y</td>\n",
       "      <td>13</td>\n",
       "      <td>169</td>\n",
       "      <td>53</td>\n",
       "    </tr>\n",
       "    <tr>\n",
       "      <th>17</th>\n",
       "      <td>Female</td>\n",
       "      <td>Y</td>\n",
       "      <td>29</td>\n",
       "      <td>163</td>\n",
       "      <td>52</td>\n",
       "    </tr>\n",
       "    <tr>\n",
       "      <th>18</th>\n",
       "      <td>Female</td>\n",
       "      <td>Y</td>\n",
       "      <td>41</td>\n",
       "      <td>151</td>\n",
       "      <td>56</td>\n",
       "    </tr>\n",
       "    <tr>\n",
       "      <th>19</th>\n",
       "      <td>Female</td>\n",
       "      <td>N</td>\n",
       "      <td>10</td>\n",
       "      <td>40</td>\n",
       "      <td>14</td>\n",
       "    </tr>\n",
       "  </tbody>\n",
       "</table>\n",
       "</div>"
      ],
      "text/plain": [
       "       sex insomnia  age  height  weight\n",
       "0     Male        Y   23     180     100\n",
       "1     Male        N   40     170      68\n",
       "2     Male        N    5     100      20\n",
       "3     Male        N   30     176      70\n",
       "4     Male        N    1      70      10\n",
       "5   Female        N   40     160      45\n",
       "6   Female        Y   16     170      50\n",
       "7   Female        Y   27     166      58\n",
       "8   Female        Y   43     155      58\n",
       "9   Female        N    8      35      17\n",
       "10    Male        Y   23     170     101\n",
       "11    Male        N   39     168      65\n",
       "12    Male        N    5     101      22\n",
       "13    Male        N   29     175      79\n",
       "14    Male        N    1      72      12\n",
       "15  Female        N   42     163      40\n",
       "16  Female        Y   13     169      53\n",
       "17  Female        Y   29     163      52\n",
       "18  Female        Y   41     151      56\n",
       "19  Female        N   10      40      14"
      ]
     },
     "metadata": {},
     "output_type": "display_data"
    },
    {
     "name": "stdout",
     "output_type": "stream",
     "text": [
      "<class 'pandas.core.frame.DataFrame'>\n",
      "RangeIndex: 20 entries, 0 to 19\n",
      "Data columns (total 5 columns):\n",
      " #   Column    Non-Null Count  Dtype \n",
      "---  ------    --------------  ----- \n",
      " 0   sex       20 non-null     object\n",
      " 1   insomnia  20 non-null     object\n",
      " 2   age       20 non-null     int64 \n",
      " 3   height    20 non-null     int64 \n",
      " 4   weight    20 non-null     int64 \n",
      "dtypes: int64(3), object(2)\n",
      "memory usage: 928.0+ bytes\n",
      "None\n"
     ]
    }
   ],
   "source": [
    "#用字典產生一組資料\n",
    "data={'sex': ['Male','Male','Male','Male','Male','Female','Female','Female','Female','Female','Male','Male','Male','Male','Male','Female','Female','Female','Female','Female'],\n",
    "      'insomnia':['Y','N','N','N','N','N','Y','Y','Y','N','Y','N','N','N','N','N','Y','Y','Y','N'],\n",
    "     'age':[23,40,5,30,1,40,16,27,43,8,23,39,5,29,1,42,13,29,41,10],\n",
    "     'height':[180,170,100,176,70,160,170,166,155,35,170,168,101,175,72,163,169,163,151,40],\n",
    "     'weight':[100,68,20,70,10,45,50,58,58,17,101,65,22,79,12,40,53,52,56,14]}\n",
    "#轉成 dataframe格式 \n",
    "data=pd.DataFrame(data)\n",
    "display(data)\n",
    "\n",
    "print(data.info())"
   ]
  },
  {
   "cell_type": "code",
   "execution_count": 4,
   "metadata": {},
   "outputs": [
    {
     "name": "stdout",
     "output_type": "stream",
     "text": [
      "2 category Features : ['sex', 'insomnia']\n",
      "\n"
     ]
    }
   ],
   "source": [
    "cat_features = []\n",
    "for dtype, feature in zip(data.dtypes, data.columns):\n",
    "    if dtype == 'object':\n",
    "        cat_features.append(feature)\n",
    "print(f'{len(cat_features)} category Features : {cat_features}\\n')"
   ]
  },
  {
   "cell_type": "markdown",
   "metadata": {},
   "source": [
    "## 連續 vs 連續\n",
    "  本範例透過 Pearson相關係數，看身高和體重相關性\n",
    "* Pearson相關係數\n",
    "   是描述兩個連續型變數的相關性\n",
    "* 語法: https://docs.scipy.org/doc/scipy/reference/generated/scipy.stats.pearsonr.html"
   ]
  },
  {
   "cell_type": "code",
   "execution_count": 5,
   "metadata": {},
   "outputs": [
    {
     "name": "stdout",
     "output_type": "stream",
     "text": [
      "0.8380879580762453\n"
     ]
    }
   ],
   "source": [
    "# 由於 pearsonr 有兩個回傳結果，我們只需取第一個回傳值為相關係數\n",
    "corr, _=stats.pearsonr(data['height'], data['weight'])\n",
    "print(corr)\n",
    "#代表身高和體重有高度線性相關"
   ]
  },
  {
   "cell_type": "code",
   "execution_count": 6,
   "metadata": {},
   "outputs": [
    {
     "data": {
      "image/png": "[encoded data removed]",
      "text/plain": [
       "<Figure size 432x288 with 1 Axes>"
      ]
     },
     "metadata": {
      "needs_background": "light"
     },
     "output_type": "display_data"
    }
   ],
   "source": [
    "g = sns.regplot(x=\"height\", y=\"weight\", color=\"g\",data=data)\n",
    "#年齡和身高有關連"
   ]
  },
  {
   "cell_type": "markdown",
   "metadata": {},
   "source": [
    "## 離散 vs 離散\n",
    "  本範例透過 Cramér's V ，看失眠的狀態和性別相關性"
   ]
  },
  {
   "cell_type": "code",
   "execution_count": 8,
   "metadata": {},
   "outputs": [
    {
     "name": "stdout",
     "output_type": "stream",
     "text": [
      "Collecting researchpy\n",
      "  Downloading researchpy-0.2.3-py3-none-any.whl (10 kB)\n",
      "Requirement already satisfied: numpy in c:\\users\\linda yeh\\anaconda3\\lib\\site-packages (from researchpy) (1.18.5)\n",
      "Requirement already satisfied: statsmodels in c:\\users\\linda yeh\\anaconda3\\lib\\site-packages (from researchpy) (0.11.1)\n",
      "Requirement already satisfied: pandas in c:\\users\\linda yeh\\anaconda3\\lib\\site-packages (from researchpy) (1.0.5)\n",
      "Requirement already satisfied: scipy in c:\\users\\linda yeh\\anaconda3\\lib\\site-packages (from researchpy) (1.5.0)\n",
      "Requirement already satisfied: pytz>=2017.2 in c:\\users\\linda yeh\\anaconda3\\lib\\site-packages (from pandas->researchpy) (2020.1)\n",
      "Requirement already satisfied: python-dateutil>=2.6.1 in c:\\users\\linda yeh\\anaconda3\\lib\\site-packages (from pandas->researchpy) (2.8.1)\n",
      "Requirement already satisfied: six>=1.5 in c:\\users\\linda yeh\\anaconda3\\lib\\site-packages (from python-dateutil>=2.6.1->pandas->researchpy) (1.15.0)\n",
      "Requirement already satisfied: patsy>=0.5 in c:\\users\\linda yeh\\anaconda3\\lib\\site-packages (from statsmodels->researchpy) (0.5.1)\n",
      "Installing collected packages: researchpy\n",
      "Successfully installed researchpy-0.2.3\n"
     ]
    }
   ],
   "source": [
    "#如果沒有安裝過，先把下一行程式碼打開，先安裝套件 \n",
    "!pip install researchpy\n",
    "\n",
    "import researchpy   \n",
    "# https://researchpy.readthedocs.io/"
   ]
  },
  {
   "cell_type": "markdown",
   "metadata": {},
   "source": [
    "## step1: 用交叉列連表(contingency table)，來整理兩個類別型的資料"
   ]
  },
  {
   "cell_type": "code",
   "execution_count": 9,
   "metadata": {},
   "outputs": [
    {
     "data": {
      "text/html": [
       "<div>\n",
       "<style scoped>\n",
       "    .dataframe tbody tr th:only-of-type {\n",
       "        vertical-align: middle;\n",
       "    }\n",
       "\n",
       "    .dataframe tbody tr th {\n",
       "        vertical-align: top;\n",
       "    }\n",
       "\n",
       "    .dataframe thead th {\n",
       "        text-align: right;\n",
       "    }\n",
       "</style>\n",
       "<table border=\"1\" class=\"dataframe\">\n",
       "  <thead>\n",
       "    <tr style=\"text-align: right;\">\n",
       "      <th>insomnia</th>\n",
       "      <th>N</th>\n",
       "      <th>Y</th>\n",
       "    </tr>\n",
       "    <tr>\n",
       "      <th>sex</th>\n",
       "      <th></th>\n",
       "      <th></th>\n",
       "    </tr>\n",
       "  </thead>\n",
       "  <tbody>\n",
       "    <tr>\n",
       "      <th>Female</th>\n",
       "      <td>4</td>\n",
       "      <td>6</td>\n",
       "    </tr>\n",
       "    <tr>\n",
       "      <th>Male</th>\n",
       "      <td>8</td>\n",
       "      <td>2</td>\n",
       "    </tr>\n",
       "  </tbody>\n",
       "</table>\n",
       "</div>"
      ],
      "text/plain": [
       "insomnia  N  Y\n",
       "sex           \n",
       "Female    4  6\n",
       "Male      8  2"
      ]
     },
     "execution_count": 9,
     "metadata": {},
     "output_type": "execute_result"
    }
   ],
   "source": [
    "contTable = pd.crosstab(data['sex'], data['insomnia'])\n",
    "contTable"
   ]
  },
  {
   "cell_type": "markdown",
   "metadata": {},
   "source": [
    "## Step2:計算資料自由度 df*\n"
   ]
  },
  {
   "cell_type": "code",
   "execution_count": 12,
   "metadata": {},
   "outputs": [
    {
     "data": {
      "text/plain": [
       "1"
      ]
     },
     "execution_count": 12,
     "metadata": {},
     "output_type": "execute_result"
    }
   ],
   "source": [
    "df = min(contTable.shape[0], contTable.shape[1]) - 1\n",
    "df"
   ]
  },
  {
   "cell_type": "markdown",
   "metadata": {},
   "source": [
    "## Step3:運用 researchpy 套件，計算出 Cramer’s V 係數\n"
   ]
  },
  {
   "cell_type": "code",
   "execution_count": 14,
   "metadata": {},
   "outputs": [
    {
     "name": "stdout",
     "output_type": "stream",
     "text": [
      "Cramer's value is 0.4082\n"
     ]
    }
   ],
   "source": [
    "crosstab, res = researchpy.crosstab(data['sex'], data['insomnia'], test='chi-square')\n",
    "#print(res)\n",
    "print(\"Cramer's value is\",res.loc[2,'results'])\n",
    "\n",
    "#這邊用卡方檢定獨立性，所以採用的 test 參數為卡方 \"test =\" argument.\n",
    "# 採用的變數在這個模組中，會自己根據資料集來判斷，Cramer's Phi if it a 2x2 table, or Cramer's V is larger than 2x2."
   ]
  },
  {
   "cell_type": "code",
   "execution_count": 15,
   "metadata": {},
   "outputs": [
    {
     "data": {
      "text/plain": [
       "'medium'"
      ]
     },
     "execution_count": 15,
     "metadata": {},
     "output_type": "execute_result"
    }
   ],
   "source": [
    "## 寫一個副程式判斷相關性的強度\n",
    "def judgment_CramerV(df,V):\n",
    "    if df == 1:\n",
    "        if V < 0.10:\n",
    "            qual = 'negligible'\n",
    "        elif V < 0.30:\n",
    "            qual = 'small'\n",
    "        elif V < 0.50:\n",
    "            qual = 'medium'\n",
    "        else:\n",
    "            qual = 'large'\n",
    "    elif df == 2:\n",
    "        if V < 0.07:\n",
    "            qual = 'negligible'\n",
    "        elif V < 0.21:\n",
    "            qual = 'small'\n",
    "        elif V < 0.35:\n",
    "            qual = 'medium'\n",
    "        else:\n",
    "            qual = 'large'\n",
    "    elif df == 3:\n",
    "        if V < 0.06:\n",
    "            qual = 'negligible'\n",
    "        elif V < 0.17:\n",
    "            qual = 'small'\n",
    "        elif V < 0.29:\n",
    "            qual = 'medium'\n",
    "        else:\n",
    "            qual = 'large'\n",
    "    elif df == 4:\n",
    "        if V < 0.05:\n",
    "            qual = 'negligible'\n",
    "        elif V < 0.15:\n",
    "            qual = 'small'\n",
    "        elif V < 0.25:\n",
    "            qual = 'medium'\n",
    "        else:\n",
    "            qual = 'large'\n",
    "    else:\n",
    "        if V < 0.05:\n",
    "            qual = 'negligible'\n",
    "        elif V < 0.13:\n",
    "            qual = 'small'\n",
    "        elif V < 0.22:\n",
    "            qual = 'medium'\n",
    "        else:\n",
    "            qual = 'large'\n",
    "    return(qual)\n",
    "\n",
    "judgment_CramerV(df,res.loc[2,'results'])"
   ]
  },
  {
   "cell_type": "markdown",
   "metadata": {},
   "source": [
    "### 此案例的失眠狀態和性別這兩個變數，呈現中度相關"
   ]
  },
  {
   "cell_type": "markdown",
   "metadata": {},
   "source": [
    "## 搭配圖形觀察"
   ]
  },
  {
   "cell_type": "code",
   "execution_count": 16,
   "metadata": {},
   "outputs": [
    {
     "data": {
      "image/png": "[encoded data removed]",
      "text/plain": [
       "<Figure size 432x288 with 1 Axes>"
      ]
     },
     "metadata": {
      "needs_background": "light"
     },
     "output_type": "display_data"
    }
   ],
   "source": [
    "g= sns.countplot(x=\"sex\", hue=\"insomnia\", data=data)"
   ]
  },
  {
   "cell_type": "markdown",
   "metadata": {},
   "source": [
    "## 離散 vs 連續 Eta Squared(η2)\n",
    "  本範例透過 Eta Squared ，看失眠的狀態和體重相關性"
   ]
  },
  {
   "cell_type": "code",
   "execution_count": 18,
   "metadata": {},
   "outputs": [
    {
     "name": "stdout",
     "output_type": "stream",
     "text": [
      "Collecting pingouin\n",
      "  Downloading pingouin-0.3.10.tar.gz (204 kB)\n",
      "Requirement already satisfied: numpy>=1.15 in c:\\users\\linda yeh\\anaconda3\\lib\\site-packages (from pingouin) (1.18.5)\n",
      "Requirement already satisfied: scipy>=1.3 in c:\\users\\linda yeh\\anaconda3\\lib\\site-packages (from pingouin) (1.5.0)\n",
      "Requirement already satisfied: pandas>=0.24 in c:\\users\\linda yeh\\anaconda3\\lib\\site-packages (from pingouin) (1.0.5)\n",
      "Requirement already satisfied: matplotlib>=3.0.2 in c:\\users\\linda yeh\\anaconda3\\lib\\site-packages (from pingouin) (3.2.2)\n",
      "Requirement already satisfied: seaborn>=0.9.0 in c:\\users\\linda yeh\\anaconda3\\lib\\site-packages (from pingouin) (0.10.1)\n",
      "Requirement already satisfied: statsmodels>=0.10.0 in c:\\users\\linda yeh\\anaconda3\\lib\\site-packages (from pingouin) (0.11.1)\n",
      "Requirement already satisfied: scikit-learn in c:\\users\\linda yeh\\anaconda3\\lib\\site-packages (from pingouin) (0.23.1)\n",
      "Collecting pandas_flavor>=0.1.2\n",
      "  Downloading pandas_flavor-0.2.0-py2.py3-none-any.whl (6.6 kB)\n",
      "Collecting outdated\n",
      "  Downloading outdated-0.2.0.tar.gz (4.0 kB)\n",
      "Collecting tabulate\n",
      "  Downloading tabulate-0.8.9-py3-none-any.whl (25 kB)\n",
      "Requirement already satisfied: cycler>=0.10 in c:\\users\\linda yeh\\anaconda3\\lib\\site-packages (from matplotlib>=3.0.2->pingouin) (0.10.0)\n",
      "Requirement already satisfied: pyparsing!=2.0.4,!=2.1.2,!=2.1.6,>=2.0.1 in c:\\users\\linda yeh\\anaconda3\\lib\\site-packages (from matplotlib>=3.0.2->pingouin) (2.4.7)\n",
      "Requirement already satisfied: kiwisolver>=1.0.1 in c:\\users\\linda yeh\\anaconda3\\lib\\site-packages (from matplotlib>=3.0.2->pingouin) (1.2.0)\n",
      "Requirement already satisfied: python-dateutil>=2.1 in c:\\users\\linda yeh\\anaconda3\\lib\\site-packages (from matplotlib>=3.0.2->pingouin) (2.8.1)\n",
      "Requirement already satisfied: six in c:\\users\\linda yeh\\anaconda3\\lib\\site-packages (from cycler>=0.10->matplotlib>=3.0.2->pingouin) (1.15.0)\n",
      "Requirement already satisfied: pytz>=2017.2 in c:\\users\\linda yeh\\anaconda3\\lib\\site-packages (from pandas>=0.24->pingouin) (2020.1)\n",
      "Collecting xarray\n",
      "  Downloading xarray-0.17.0-py3-none-any.whl (759 kB)\n",
      "Requirement already satisfied: patsy>=0.5 in c:\\users\\linda yeh\\anaconda3\\lib\\site-packages (from statsmodels>=0.10.0->pingouin) (0.5.1)\n",
      "Collecting littleutils\n",
      "  Downloading littleutils-0.2.2.tar.gz (6.6 kB)\n",
      "Requirement already satisfied: requests in c:\\users\\linda yeh\\anaconda3\\lib\\site-packages (from outdated->pingouin) (2.24.0)\n",
      "Requirement already satisfied: urllib3!=1.25.0,!=1.25.1,<1.26,>=1.21.1 in c:\\users\\linda yeh\\anaconda3\\lib\\site-packages (from requests->outdated->pingouin) (1.25.9)\n",
      "Requirement already satisfied: certifi>=2017.4.17 in c:\\users\\linda yeh\\anaconda3\\lib\\site-packages (from requests->outdated->pingouin) (2020.6.20)\n",
      "Requirement already satisfied: idna<3,>=2.5 in c:\\users\\linda yeh\\anaconda3\\lib\\site-packages (from requests->outdated->pingouin) (2.10)\n",
      "Requirement already satisfied: chardet<4,>=3.0.2 in c:\\users\\linda yeh\\anaconda3\\lib\\site-packages (from requests->outdated->pingouin) (3.0.4)\n",
      "Requirement already satisfied: threadpoolctl>=2.0.0 in c:\\users\\linda yeh\\anaconda3\\lib\\site-packages (from scikit-learn->pingouin) (2.1.0)\n",
      "Requirement already satisfied: joblib>=0.11 in c:\\users\\linda yeh\\anaconda3\\lib\\site-packages (from scikit-learn->pingouin) (0.16.0)\n",
      "Requirement already satisfied: setuptools>=40.4 in c:\\users\\linda yeh\\anaconda3\\lib\\site-packages (from xarray->pandas_flavor>=0.1.2->pingouin) (49.2.0.post20200714)\n",
      "Building wheels for collected packages: pingouin, outdated, littleutils\n",
      "  Building wheel for pingouin (setup.py): started\n",
      "  Building wheel for pingouin (setup.py): finished with status 'done'\n",
      "  Created wheel for pingouin: filename=pingouin-0.3.10-py3-none-any.whl size=203402 sha256=afb44e2e8200abf325ff0acb414144bbc8e0a578e92ab1592a5d34827f988ed2\n",
      "  Stored in directory: c:\\users\\linda yeh\\appdata\\local\\pip\\cache\\wheels\\26\\7e\\4b\\d7815d18674094caa0d58cc40bb6a595b4a2e67ada30e2d42d\n",
      "  Building wheel for outdated (setup.py): started\n",
      "  Building wheel for outdated (setup.py): finished with status 'done'\n",
      "  Created wheel for outdated: filename=outdated-0.2.0-py3-none-any.whl size=4965 sha256=5369ecc6b51dc767677b35fd2eed53a82d270a0211dcf5059e86e65250edbb7e\n",
      "  Stored in directory: c:\\users\\linda yeh\\appdata\\local\\pip\\cache\\wheels\\2d\\4f\\c9\\062da6e68841f60d0c3434980775671daaa07a574110567de6\n",
      "  Building wheel for littleutils (setup.py): started\n",
      "  Building wheel for littleutils (setup.py): finished with status 'done'\n",
      "  Created wheel for littleutils: filename=littleutils-0.2.2-py3-none-any.whl size=7052 sha256=28bc5aa897af8869f474816fc9537d4ffaa6ea5febd5e563692209b9c3ebdc11\n",
      "  Stored in directory: c:\\users\\linda yeh\\appdata\\local\\pip\\cache\\wheels\\6a\\33\\c4\\0ef84d7f5568c2823e3d63a6e08988852fb9e4bc822034870a\n",
      "Successfully built pingouin outdated littleutils\n",
      "Installing collected packages: xarray, littleutils, tabulate, pandas-flavor, outdated, pingouin\n",
      "Successfully installed littleutils-0.2.2 outdated-0.2.0 pandas-flavor-0.2.0 pingouin-0.3.10 tabulate-0.8.9 xarray-0.17.0\n"
     ]
    }
   ],
   "source": [
    "#如果沒有安裝過，先把下一行程式碼打開，先安裝套件 \n",
    "!pip install pingouin\n",
    "import pingouin as pg"
   ]
  },
  {
   "cell_type": "markdown",
   "metadata": {},
   "source": [
    "### Step1: 取出失眠和體重資料\n",
    "###  Step2:運用 pg.anova 計算三種變異數"
   ]
  },
  {
   "cell_type": "code",
   "execution_count": 19,
   "metadata": {},
   "outputs": [
    {
     "data": {
      "text/html": [
       "<div>\n",
       "<style scoped>\n",
       "    .dataframe tbody tr th:only-of-type {\n",
       "        vertical-align: middle;\n",
       "    }\n",
       "\n",
       "    .dataframe tbody tr th {\n",
       "        vertical-align: top;\n",
       "    }\n",
       "\n",
       "    .dataframe thead th {\n",
       "        text-align: right;\n",
       "    }\n",
       "</style>\n",
       "<table border=\"1\" class=\"dataframe\">\n",
       "  <thead>\n",
       "    <tr style=\"text-align: right;\">\n",
       "      <th></th>\n",
       "      <th>Source</th>\n",
       "      <th>SS</th>\n",
       "      <th>DF</th>\n",
       "      <th>MS</th>\n",
       "      <th>F</th>\n",
       "      <th>p-unc</th>\n",
       "      <th>np2</th>\n",
       "    </tr>\n",
       "  </thead>\n",
       "  <tbody>\n",
       "    <tr>\n",
       "      <th>0</th>\n",
       "      <td>insomnia</td>\n",
       "      <td>3630.0</td>\n",
       "      <td>1</td>\n",
       "      <td>3630.000000</td>\n",
       "      <td>6.123137</td>\n",
       "      <td>0.023521</td>\n",
       "      <td>0.253828</td>\n",
       "    </tr>\n",
       "    <tr>\n",
       "      <th>1</th>\n",
       "      <td>Within</td>\n",
       "      <td>10671.0</td>\n",
       "      <td>18</td>\n",
       "      <td>592.833333</td>\n",
       "      <td>NaN</td>\n",
       "      <td>NaN</td>\n",
       "      <td>NaN</td>\n",
       "    </tr>\n",
       "  </tbody>\n",
       "</table>\n",
       "</div>"
      ],
      "text/plain": [
       "     Source       SS  DF           MS         F     p-unc       np2\n",
       "0  insomnia   3630.0   1  3630.000000  6.123137  0.023521  0.253828\n",
       "1    Within  10671.0  18   592.833333       NaN       NaN       NaN"
      ]
     },
     "execution_count": 19,
     "metadata": {},
     "output_type": "execute_result"
    }
   ],
   "source": [
    "aov = pg.anova(dv='weight', between='insomnia', data=data, detailed=True)\n",
    "aov"
   ]
  },
  {
   "cell_type": "markdown",
   "metadata": {},
   "source": [
    "### Step3:變異數換算得到 Eta Squared (𝜼^𝟐)"
   ]
  },
  {
   "cell_type": "code",
   "execution_count": 20,
   "metadata": {},
   "outputs": [
    {
     "data": {
      "text/plain": [
       "0.2538284036081393"
      ]
     },
     "execution_count": 20,
     "metadata": {},
     "output_type": "execute_result"
    }
   ],
   "source": [
    "etaSq = aov.SS[0] / (aov.SS[0] + aov.SS[1])\n",
    "etaSq"
   ]
  },
  {
   "cell_type": "code",
   "execution_count": 21,
   "metadata": {},
   "outputs": [
    {
     "data": {
      "text/plain": [
       "'Large'"
      ]
     },
     "execution_count": 21,
     "metadata": {},
     "output_type": "execute_result"
    }
   ],
   "source": [
    "def judgment_etaSq(etaSq):\n",
    "    if etaSq < .01:\n",
    "        qual = 'Negligible'\n",
    "    elif etaSq < .06:\n",
    "        qual = 'Small'\n",
    "    elif etaSq < .14:\n",
    "        qual = 'Medium'\n",
    "    else:\n",
    "        qual = 'Large'\n",
    "    return(qual)\n",
    "judgment_etaSq(etaSq)"
   ]
  },
  {
   "cell_type": "markdown",
   "metadata": {},
   "source": [
    "### 搭配圖形來檢視\n",
    "* 這邊使用小提琴圖示法"
   ]
  },
  {
   "cell_type": "code",
   "execution_count": 22,
   "metadata": {},
   "outputs": [
    {
     "data": {
      "image/png": "[encoded data removed]",
      "text/plain": [
       "<Figure size 360x360 with 1 Axes>"
      ]
     },
     "metadata": {
      "needs_background": "light"
     },
     "output_type": "display_data"
    }
   ],
   "source": [
    "g = sns.catplot(x=\"insomnia\", y=\"weight\", hue=\"insomnia\",\n",
    "               data=data, kind=\"violin\")"
   ]
  },
  {
   "cell_type": "markdown",
   "metadata": {},
   "source": [
    "### 結論: 體重和失眠狀態有高度相關性，有失眠狀態的體重較非失眠狀態來的大。"
   ]
  }
 ],
 "metadata": {
  "colab": {
   "name": "Day33.YOLO 細節理解 - 網路輸出的後處理_HW.ipynb",
   "provenance": []
  },
  "kernelspec": {
   "display_name": "Python 3",
   "language": "python",
   "name": "python3"
  },
  "language_info": {
   "codemirror_mode": {
    "name": "ipython",
    "version": 3
   },
   "file_extension": ".py",
   "mimetype": "text/x-python",
   "name": "python",
   "nbconvert_exporter": "python",
   "pygments_lexer": "ipython3",
   "version": "3.8.3"
  }
 },
 "nbformat": 4,
 "nbformat_minor": 1
}
